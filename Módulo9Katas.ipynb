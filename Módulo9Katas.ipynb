{
 "cells": [
  {
   "cell_type": "code",
   "execution_count": null,
   "metadata": {},
   "outputs": [],
   "source": []
  },
  {
   "cell_type": "markdown",
   "metadata": {},
   "source": [
    "### Ejercicio 1, Kata 9"
   ]
  },
  {
   "cell_type": "code",
   "execution_count": 1,
   "metadata": {},
   "outputs": [],
   "source": [
    "def generate_report(tanque_principal, tanque_secundario, tanque_externo):\n",
    "    total_average = (tanque_principal + tanque_secundario + tanque_externo) / 3\n",
    "    return f\"\"\"Informe del combustible:\n",
    "    Promedio total: {total_average}%\n",
    "    tanque principal: {tanque_principal}%\n",
    "    tanque secundario: {tanque_secundario}%\n",
    "    tanque externo: {tanque_externo}% \n",
    "    \"\"\""
   ]
  },
  {
   "cell_type": "code",
   "execution_count": 2,
   "metadata": {},
   "outputs": [
    {
     "name": "stdout",
     "output_type": "stream",
     "text": [
      "Informe del combustible:\n",
      "    Promedio total: 68.33333333333333%\n",
      "    tanque principal: 60%\n",
      "    tanque secundario: 75%\n",
      "    tanque externo: 70% \n",
      "    \n"
     ]
    }
   ],
   "source": [
    "print(generate_report(60, 75, 70))"
   ]
  },
  {
   "cell_type": "code",
   "execution_count": 3,
   "metadata": {},
   "outputs": [],
   "source": [
    "def average(valores):\n",
    "    total = sum(valores)\n",
    "    number_of_items = len(valores)\n",
    "    return total / number_of_items\n",
    "    "
   ]
  },
  {
   "cell_type": "code",
   "execution_count": 4,
   "metadata": {},
   "outputs": [
    {
     "data": {
      "text/plain": [
       "68.33333333333333"
      ]
     },
     "execution_count": 4,
     "metadata": {},
     "output_type": "execute_result"
    }
   ],
   "source": [
    "average([60, 75, 70]) "
   ]
  },
  {
   "cell_type": "code",
   "execution_count": 5,
   "metadata": {},
   "outputs": [],
   "source": [
    "def generate_report(tanque_principal, tanque_secundario, tanque_externo):\n",
    "    return f\"\"\"Informe del combustible:\n",
    "    promedio total: {average([tanque_principal, tanque_secundario, tanque_externo])}%\n",
    "    tanque principal: {tanque_principal}%\n",
    "    tanque secundario: {tanque_secundario}%\n",
    "    tanque externo: {tanque_externo}% \n",
    "    \"\"\""
   ]
  },
  {
   "cell_type": "code",
   "execution_count": 6,
   "metadata": {},
   "outputs": [
    {
     "name": "stdout",
     "output_type": "stream",
     "text": [
      "Informe del combustible:\n",
      "    promedio total: 68.33333333333333%\n",
      "    tanque principal: 60%\n",
      "    tanque secundario: 75%\n",
      "    tanque externo: 70% \n",
      "    \n"
     ]
    }
   ],
   "source": [
    "print(generate_report(60, 75, 70))"
   ]
  },
  {
   "cell_type": "markdown",
   "metadata": {},
   "source": [
    "### Ejercicio 2, Kata 9"
   ]
  },
  {
   "cell_type": "code",
   "execution_count": 18,
   "metadata": {},
   "outputs": [
    {
     "name": "stdout",
     "output_type": "stream",
     "text": [
      "\n",
      "    Misión a Marte\n",
      "    Tiempo total de viaje: 301 días\n",
      "    Total de combustible restante: 900000 galones\n",
      "    \n"
     ]
    }
   ],
   "source": [
    "def misión_reporte (tiempo_lanzamiento, tiempo_vuelo, destino, tanque_externo, tanque_principal):\n",
    "    return f\"\"\"\n",
    "    Misión a {destino}\n",
    "    Tiempo total de viaje: {tiempo_lanzamiento + tiempo_vuelo} días\n",
    "    Total de combustible restante: {tanque_externo + tanque_principal} galones\n",
    "    \"\"\"\n",
    "\n",
    "print(misión_reporte(1, 300, \"Marte\", 400000, 500000))"
   ]
  },
  {
   "cell_type": "code",
   "execution_count": 19,
   "metadata": {},
   "outputs": [
    {
     "name": "stdout",
     "output_type": "stream",
     "text": [
      "\n",
      "    Misión a Marte\n",
      "    Tiempo total de viaje: 301 días\n",
      "    Total de combustible restante: 900000\n",
      "    \n"
     ]
    }
   ],
   "source": [
    "def misión_reporte(destino, *días, **reserva_combustible):\n",
    "    return f\"\"\"\n",
    "    Misión a {destino}\n",
    "    Tiempo total de viaje: {sum(días)} días\n",
    "    Total de combustible restante: {sum(reserva_combustible.values())}\n",
    "    \"\"\"\n",
    "\n",
    "print(misión_reporte(\"Marte\", 1, 150, 150, tanque_principal=400000, tanque_externo=500000))"
   ]
  },
  {
   "cell_type": "code",
   "execution_count": 42,
   "metadata": {},
   "outputs": [
    {
     "name": "stdout",
     "output_type": "stream",
     "text": [
      "\n",
      "    Misión a Marte\n",
      "    Tiempo total de viaje: 301 días\n",
      "    Total de combustible restante: 500000\n",
      "    principal tanque --> 300000 galones de reserva\n",
      "externo tanque --> 200000 galones de reserva\n",
      "\n"
     ]
    }
   ],
   "source": [
    "def misión_reporte(destino, *días, **reserva_combustible):\n",
    "    primer_reporte = f\"\"\"\n",
    "    Misión a {destino}\n",
    "    Tiempo total de viaje: {sum(días)} días\n",
    "    Total de combustible restante: {sum(reserva_combustible.values())}\n",
    "    \"\"\"\n",
    "    for tanque_name, galones in reserva_combustible.items():\n",
    "        primer_reporte += f\"{tanque_name} tanque --> {galones} galones de reserva\\n\"\n",
    "    return primer_reporte\n",
    "print(misión_reporte(\"Marte\", 1, 150, 150, principal=300000, externo=200000))    "
   ]
  }
 ],
 "metadata": {
  "interpreter": {
   "hash": "97c87f12c6b3186f4c7b138861d59103fa3ff12d616c2299e4254a5ad486f81f"
  },
  "kernelspec": {
   "display_name": "Python 3.10.2 64-bit",
   "language": "python",
   "name": "python3"
  },
  "language_info": {
   "codemirror_mode": {
    "name": "ipython",
    "version": 3
   },
   "file_extension": ".py",
   "mimetype": "text/x-python",
   "name": "python",
   "nbconvert_exporter": "python",
   "pygments_lexer": "ipython3",
   "version": "3.10.2"
  },
  "orig_nbformat": 4
 },
 "nbformat": 4,
 "nbformat_minor": 2
}
