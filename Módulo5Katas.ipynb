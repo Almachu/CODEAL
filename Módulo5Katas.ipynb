{
 "cells": [
  {
   "cell_type": "code",
   "execution_count": null,
   "metadata": {},
   "outputs": [],
   "source": []
  },
  {
   "cell_type": "markdown",
   "metadata": {},
   "source": [
    "### Ejercicio 1, Kata 5"
   ]
  },
  {
   "cell_type": "code",
   "execution_count": 1,
   "metadata": {},
   "outputs": [],
   "source": [
    "Tierra = 149597870 # in km \n",
    "Júpiter = 778547200 # in km"
   ]
  },
  {
   "cell_type": "code",
   "execution_count": 11,
   "metadata": {},
   "outputs": [
    {
     "name": "stdout",
     "output_type": "stream",
     "text": [
      "628949330\n",
      "390577534\n"
     ]
    }
   ],
   "source": [
    "difference_km = Tierra - Júpiter \n",
    "print(abs(difference_km))\n",
    "\n",
    "product_mi = difference_km * 0.621\n",
    "print(abs(round(product_mi)))"
   ]
  },
  {
   "cell_type": "markdown",
   "metadata": {},
   "source": [
    "### Ejercicio 2, Kata 5"
   ]
  },
  {
   "cell_type": "code",
   "execution_count": 31,
   "metadata": {},
   "outputs": [
    {
     "name": "stdout",
     "output_type": "stream",
     "text": [
      "57910000\n",
      "4495000000\n"
     ]
    }
   ],
   "source": [
    "first_Mercurio = input('¿Cual es la distancia del Sol con el planeta Mercurio?')\n",
    "second_Saturno = input('Cual es la distancia del Sol con el planeta Saturno')\n",
    "print (first_Mercurio)\n",
    "print (second_Saturno)"
   ]
  },
  {
   "cell_type": "code",
   "execution_count": 32,
   "metadata": {},
   "outputs": [
    {
     "name": "stdout",
     "output_type": "stream",
     "text": [
      "57910000\n",
      "4495000000\n"
     ]
    }
   ],
   "source": [
    "first_Mercurio = int(first_Mercurio)\n",
    "second_Saturno = int(second_Saturno)\n",
    "print(int(first_Mercurio))\n",
    "print(int(second_Saturno))"
   ]
  },
  {
   "cell_type": "code",
   "execution_count": 34,
   "metadata": {},
   "outputs": [
    {
     "name": "stdout",
     "output_type": "stream",
     "text": [
      "4437090000\n",
      "2755432890\n"
     ]
    }
   ],
   "source": [
    "distance_km = second_Saturno - first_Mercurio\n",
    "print(distance_km)\n",
    "\n",
    "distance_mi = distance_km * 0.621\n",
    "print(abs(round(distance_mi)))"
   ]
  }
 ],
 "metadata": {
  "interpreter": {
   "hash": "97c87f12c6b3186f4c7b138861d59103fa3ff12d616c2299e4254a5ad486f81f"
  },
  "kernelspec": {
   "display_name": "Python 3.10.2 64-bit",
   "language": "python",
   "name": "python3"
  },
  "language_info": {
   "codemirror_mode": {
    "name": "ipython",
    "version": 3
   },
   "file_extension": ".py",
   "mimetype": "text/x-python",
   "name": "python",
   "nbconvert_exporter": "python",
   "pygments_lexer": "ipython3",
   "version": "3.10.2"
  },
  "orig_nbformat": 4
 },
 "nbformat": 4,
 "nbformat_minor": 2
}
